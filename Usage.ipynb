{
 "cells": [
  {
   "cell_type": "code",
   "execution_count": 21,
   "id": "f0fce940",
   "metadata": {},
   "outputs": [
    {
     "name": "stdout",
     "output_type": "stream",
     "text": [
      "The autoreload extension is already loaded. To reload it, use:\n",
      "  %reload_ext autoreload\n"
     ]
    }
   ],
   "source": [
    "%load_ext autoreload\n",
    "%autoreload 2\n"
   ]
  },
  {
   "cell_type": "code",
   "execution_count": 19,
   "id": "dfc5f511",
   "metadata": {},
   "outputs": [
    {
     "name": "stderr",
     "output_type": "stream",
     "text": [
      "Some weights of the model checkpoint at roberta-base were not used when initializing RobertaModel: ['lm_head.layer_norm.weight', 'lm_head.dense.weight', 'lm_head.bias', 'lm_head.decoder.weight', 'lm_head.dense.bias', 'lm_head.layer_norm.bias']\n",
      "- This IS expected if you are initializing RobertaModel from the checkpoint of a model trained on another task or with another architecture (e.g. initializing a BertForSequenceClassification model from a BertForPreTraining model).\n",
      "- This IS NOT expected if you are initializing RobertaModel from the checkpoint of a model that you expect to be exactly identical (initializing a BertForSequenceClassification model from a BertForSequenceClassification model).\n"
     ]
    }
   ],
   "source": [
    "from transformers import RobertaForSequenceClassification, RobertaModel\n",
    "\n",
    "\n",
    "\"\"\"\n",
    "Load the model, pretrain it, etc ...\n",
    "\"\"\"\n",
    "basemodel = RobertaModel.from_pretrained('roberta-base', output_hidden_states=True)\n"
   ]
  },
  {
   "cell_type": "code",
   "execution_count": 22,
   "id": "3899dfa9",
   "metadata": {},
   "outputs": [],
   "source": [
    "from kadapter import KAdapter\n",
    "from config import AdapterConfig\n",
    "\n",
    "\n",
    "\"\"\"\n",
    "Load the Adapter.\n",
    "The basemodel is frozen by default.\n",
    "The adapters can be pretrained by freezing them one by one and training the unfreezed adapter.\n",
    "\"\"\"\n",
    "adapter = KAdapter(basemodel, AdapterConfig)\n"
   ]
  },
  {
   "cell_type": "code",
   "execution_count": null,
   "id": "20a37a7d",
   "metadata": {},
   "outputs": [],
   "source": []
  }
 ],
 "metadata": {
  "kernelspec": {
   "display_name": ".venv",
   "language": "python",
   "name": ".venv"
  },
  "language_info": {
   "codemirror_mode": {
    "name": "ipython",
    "version": 3
   },
   "file_extension": ".py",
   "mimetype": "text/x-python",
   "name": "python",
   "nbconvert_exporter": "python",
   "pygments_lexer": "ipython3",
   "version": "3.8.10"
  }
 },
 "nbformat": 4,
 "nbformat_minor": 5
}
